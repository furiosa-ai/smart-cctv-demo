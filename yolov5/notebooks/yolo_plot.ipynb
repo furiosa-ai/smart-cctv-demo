{
 "cells": [
  {
   "cell_type": "code",
   "execution_count": 1,
   "id": "3d9459d7",
   "metadata": {},
   "outputs": [],
   "source": [
    "import matplotlib.pyplot as plt\n",
    "import numpy as np\n",
    "\n",
    "%matplotlib inline\n",
    "%load_ext autoreload\n",
    "%autoreload 2"
   ]
  },
  {
   "cell_type": "code",
   "execution_count": 2,
   "id": "858db352",
   "metadata": {},
   "outputs": [],
   "source": [
    "data_csv = \"\"\"\n",
    "furiosa\twarboy\t../kevin-model-zoo/weights/yolov5l_bdd100k_640/weights_i8.onnx\tint8\t640x640\t11.90829277\n",
    "furiosa\twarboy\t../kevin-model-zoo/weights/yolov5l_warboy_bdd100k_640/weights_i8.onnx\tint8\t640x640\t9.448647499\n",
    "furiosa\twarboy\t../kevin-model-zoo/weights/yolov5m_bdd100k_640/weights_i8.onnx\tint8\t640x640\t6.788611412\n",
    "furiosa\twarboy\t../kevin-model-zoo/weights/yolov5m_warboy_bdd100k_640/weights_i8.onnx\tint8\t640x640\t6.798624992\n",
    "trt\tNVIDIA A2\t../onnx/yolov5_bdd100k/yolov5l_bdd100k_640/weights.onnx\tbest\t640x640\t6.09457\n",
    "trt\tNVIDIA A2\t../onnx/yolov5_bdd100k/yolov5l_warboy_bdd100k_640/weights.onnx\tbest\t640x640\t6.41232\n",
    "trt\tNVIDIA A2\t../onnx/yolov5_bdd100k/yolov5m_bdd100k_640/weights.onnx\tbest\t640x640\t3.913245\n",
    "trt\tNVIDIA A2\t../onnx/yolov5_bdd100k/yolov5m_warboy_bdd100k_640/weights.onnx\tbest\t640x640\t4.084215\n",
    "trt\tTesla T4\t../onnx/yolov5_bdd100k/yolov5l_bdd100k_640/weights.onnx\tbest\t640x640\t5.507445\n",
    "trt\tTesla T4\t../onnx/yolov5_bdd100k/yolov5l_warboy_bdd100k_640/weights.onnx\tbest\t640x640\t5.77051\n",
    "trt\tTesla T4\t../onnx/yolov5_bdd100k/yolov5m_bdd100k_640/weights.onnx\tbest\t640x640\t3.25535\n",
    "trt\tTesla T4\t../onnx/yolov5_bdd100k/yolov5m_warboy_bdd100k_640/weights.onnx\tbest\t640x640\t3.51929\n",
    "trt\tNVIDIA A30\t../onnx/yolov5_bdd100k/yolov5l_bdd100k_640/weights.onnx\tbest\t640x640\t1.970355\n",
    "trt\tNVIDIA A30\t../onnx/yolov5_bdd100k/yolov5l_warboy_bdd100k_640/weights.onnx\tbest\t640x640\t2.06726\n",
    "trt\tNVIDIA A30\t../onnx/yolov5_bdd100k/yolov5m_bdd100k_640/weights.onnx\tbest\t640x640\t1.485825\n",
    "trt\tNVIDIA A30\t../onnx/yolov5_bdd100k/yolov5m_warboy_bdd100k_640/weights.onnx\tbest\t640x640\t1.543365\n",
    "\"\"\""
   ]
  },
  {
   "cell_type": "code",
   "execution_count": 3,
   "id": "9b4f5922",
   "metadata": {},
   "outputs": [],
   "source": [
    "data = [line.split(\"\\t\") for line in data_csv.split(\"\\n\") if len(line) > 0]"
   ]
  },
  {
   "cell_type": "code",
   "execution_count": 4,
   "id": "8a367b49",
   "metadata": {},
   "outputs": [
    {
     "data": {
      "text/plain": [
       "[['furiosa',\n",
       "  'warboy',\n",
       "  '../kevin-model-zoo/weights/yolov5l_bdd100k_640/weights_i8.onnx',\n",
       "  'int8',\n",
       "  '640x640',\n",
       "  '11.90829277'],\n",
       " ['furiosa',\n",
       "  'warboy',\n",
       "  '../kevin-model-zoo/weights/yolov5l_warboy_bdd100k_640/weights_i8.onnx',\n",
       "  'int8',\n",
       "  '640x640',\n",
       "  '9.448647499'],\n",
       " ['furiosa',\n",
       "  'warboy',\n",
       "  '../kevin-model-zoo/weights/yolov5m_bdd100k_640/weights_i8.onnx',\n",
       "  'int8',\n",
       "  '640x640',\n",
       "  '6.788611412'],\n",
       " ['furiosa',\n",
       "  'warboy',\n",
       "  '../kevin-model-zoo/weights/yolov5m_warboy_bdd100k_640/weights_i8.onnx',\n",
       "  'int8',\n",
       "  '640x640',\n",
       "  '6.798624992'],\n",
       " ['trt',\n",
       "  'NVIDIA A2',\n",
       "  '../onnx/yolov5_bdd100k/yolov5l_bdd100k_640/weights.onnx',\n",
       "  'best',\n",
       "  '640x640',\n",
       "  '6.09457'],\n",
       " ['trt',\n",
       "  'NVIDIA A2',\n",
       "  '../onnx/yolov5_bdd100k/yolov5l_warboy_bdd100k_640/weights.onnx',\n",
       "  'best',\n",
       "  '640x640',\n",
       "  '6.41232'],\n",
       " ['trt',\n",
       "  'NVIDIA A2',\n",
       "  '../onnx/yolov5_bdd100k/yolov5m_bdd100k_640/weights.onnx',\n",
       "  'best',\n",
       "  '640x640',\n",
       "  '3.913245'],\n",
       " ['trt',\n",
       "  'NVIDIA A2',\n",
       "  '../onnx/yolov5_bdd100k/yolov5m_warboy_bdd100k_640/weights.onnx',\n",
       "  'best',\n",
       "  '640x640',\n",
       "  '4.084215'],\n",
       " ['trt',\n",
       "  'Tesla T4',\n",
       "  '../onnx/yolov5_bdd100k/yolov5l_bdd100k_640/weights.onnx',\n",
       "  'best',\n",
       "  '640x640',\n",
       "  '5.507445'],\n",
       " ['trt',\n",
       "  'Tesla T4',\n",
       "  '../onnx/yolov5_bdd100k/yolov5l_warboy_bdd100k_640/weights.onnx',\n",
       "  'best',\n",
       "  '640x640',\n",
       "  '5.77051'],\n",
       " ['trt',\n",
       "  'Tesla T4',\n",
       "  '../onnx/yolov5_bdd100k/yolov5m_bdd100k_640/weights.onnx',\n",
       "  'best',\n",
       "  '640x640',\n",
       "  '3.25535'],\n",
       " ['trt',\n",
       "  'Tesla T4',\n",
       "  '../onnx/yolov5_bdd100k/yolov5m_warboy_bdd100k_640/weights.onnx',\n",
       "  'best',\n",
       "  '640x640',\n",
       "  '3.51929'],\n",
       " ['trt',\n",
       "  'NVIDIA A30',\n",
       "  '../onnx/yolov5_bdd100k/yolov5l_bdd100k_640/weights.onnx',\n",
       "  'best',\n",
       "  '640x640',\n",
       "  '1.970355'],\n",
       " ['trt',\n",
       "  'NVIDIA A30',\n",
       "  '../onnx/yolov5_bdd100k/yolov5l_warboy_bdd100k_640/weights.onnx',\n",
       "  'best',\n",
       "  '640x640',\n",
       "  '2.06726'],\n",
       " ['trt',\n",
       "  'NVIDIA A30',\n",
       "  '../onnx/yolov5_bdd100k/yolov5m_bdd100k_640/weights.onnx',\n",
       "  'best',\n",
       "  '640x640',\n",
       "  '1.485825'],\n",
       " ['trt',\n",
       "  'NVIDIA A30',\n",
       "  '../onnx/yolov5_bdd100k/yolov5m_warboy_bdd100k_640/weights.onnx',\n",
       "  'best',\n",
       "  '640x640',\n",
       "  '1.543365']]"
      ]
     },
     "execution_count": 4,
     "metadata": {},
     "output_type": "execute_result"
    }
   ],
   "source": [
    "# models, class_counts, times_ms = zip(*data)\n",
    "data"
   ]
  },
  {
   "cell_type": "code",
   "execution_count": 6,
   "id": "60ecdd8e",
   "metadata": {},
   "outputs": [
    {
     "ename": "NameError",
     "evalue": "name 'class_count' is not defined",
     "output_type": "error",
     "traceback": [
      "\u001b[0;31m---------------------------------------------------------------------------\u001b[0m",
      "\u001b[0;31mNameError\u001b[0m                                 Traceback (most recent call last)",
      "\u001b[1;32m/Users/kevin/Documents/projects/yolov5/notebooks/yolo_plot.ipynb Cell 5'\u001b[0m in \u001b[0;36m<cell line: 5>\u001b[0;34m()\u001b[0m\n\u001b[1;32m      <a href='vscode-notebook-cell:/Users/kevin/Documents/projects/yolov5/notebooks/yolo_plot.ipynb#ch0000004?line=5'>6</a>\u001b[0m     \u001b[39mif\u001b[39;00m model \u001b[39mnot\u001b[39;00m \u001b[39min\u001b[39;00m data_blocks:\n\u001b[1;32m      <a href='vscode-notebook-cell:/Users/kevin/Documents/projects/yolov5/notebooks/yolo_plot.ipynb#ch0000004?line=6'>7</a>\u001b[0m         data_blocks[model] \u001b[39m=\u001b[39m [[], []]\n\u001b[0;32m----> <a href='vscode-notebook-cell:/Users/kevin/Documents/projects/yolov5/notebooks/yolo_plot.ipynb#ch0000004?line=8'>9</a>\u001b[0m     data_blocks[model][\u001b[39m0\u001b[39m]\u001b[39m.\u001b[39mappend(class_count)\n\u001b[1;32m     <a href='vscode-notebook-cell:/Users/kevin/Documents/projects/yolov5/notebooks/yolo_plot.ipynb#ch0000004?line=9'>10</a>\u001b[0m     data_blocks[model][\u001b[39m1\u001b[39m]\u001b[39m.\u001b[39mappend(time_ms)\n\u001b[1;32m     <a href='vscode-notebook-cell:/Users/kevin/Documents/projects/yolov5/notebooks/yolo_plot.ipynb#ch0000004?line=12'>13</a>\u001b[0m \u001b[39mfor\u001b[39;00m model, plot_data \u001b[39min\u001b[39;00m data_blocks\u001b[39m.\u001b[39mitems():\n",
      "\u001b[0;31mNameError\u001b[0m: name 'class_count' is not defined"
     ]
    },
    {
     "data": {
      "text/plain": [
       "<Figure size 720x504 with 0 Axes>"
      ]
     },
     "metadata": {},
     "output_type": "display_data"
    }
   ],
   "source": [
    "plt.figure(figsize=(10,7)) \n",
    "\n",
    "data_blocks = {}\n",
    "\n",
    "for _, device, model, _, _, time_ms in data:\n",
    "    if model not in data_blocks:\n",
    "        data_blocks[model] = [[], []]\n",
    "\n",
    "    data_blocks[model][0].append(class_count)\n",
    "    data_blocks[model][1].append(time_ms)\n",
    "\n",
    "\n",
    "for model, plot_data in data_blocks.items():\n",
    "    plot_data = np.array(plot_data).astype(float)\n",
    "    plt.plot(plot_data[0], plot_data[1], label=model)\n",
    "\n",
    "plt.legend()\n",
    "plt.title(\"Yolov5m\")\n",
    "plt.xlabel(\"Class count\")\n",
    "plt.ylabel(\"Inference time (ms)\")"
   ]
  },
  {
   "cell_type": "code",
   "execution_count": null,
   "id": "12f564e5",
   "metadata": {},
   "outputs": [],
   "source": []
  }
 ],
 "metadata": {
  "interpreter": {
   "hash": "1256f468046d09d4d5df3b6a287f52e2ac55e6069a23f083c6bf9630fa295fd7"
  },
  "kernelspec": {
   "display_name": "Python 3.9.12 ('py39torch')",
   "language": "python",
   "name": "python3"
  },
  "language_info": {
   "codemirror_mode": {
    "name": "ipython",
    "version": 3
   },
   "file_extension": ".py",
   "mimetype": "text/x-python",
   "name": "python",
   "nbconvert_exporter": "python",
   "pygments_lexer": "ipython3",
   "version": "3.9.12"
  }
 },
 "nbformat": 4,
 "nbformat_minor": 5
}
